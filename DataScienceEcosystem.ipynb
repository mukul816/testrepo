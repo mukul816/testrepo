{
 "cells": [
  {
   "cell_type": "code",
   "execution_count": 1,
   "id": "67dd8959-20a4-4a6f-83a2-459329f3fa87",
   "metadata": {},
   "outputs": [],
   "source": [
    "#Data Science Tools and Ecosystem"
   ]
  },
  {
   "cell_type": "markdown",
   "id": "dd55d087-ab1c-43a8-853a-2123b0d4e9fe",
   "metadata": {},
   "source": [
    "In this notebook, Data Science Tools and Ecosystem are summarized."
   ]
  },
  {
   "cell_type": "markdown",
   "id": "218dccbe-bfb2-4862-9800-6eeae0d00695",
   "metadata": {},
   "source": [
    "*Objectives:-*\n",
    "List popular languages for Data Science.\n",
    "Some of the commonly used libraries used by Data Scientists.\n",
    "Data Science Tools.\n",
    "simple arithmetic expression."
   ]
  },
  {
   "cell_type": "markdown",
   "id": "1d8001ba-0036-4401-8124-a59dc5c70b01",
   "metadata": {},
   "source": [
    "Some of the popular languages that Data Scientists use are:\n",
    "Python, SQL, and R."
   ]
  },
  {
   "cell_type": "markdown",
   "id": "0cc8d16c-0361-4f2d-8910-49ac57abeea8",
   "metadata": {},
   "source": [
    "Some of the commonly used libraries used by Data Scientists include:numpy,seaborn,pandas"
   ]
  },
  {
   "cell_type": "markdown",
   "id": "09616864-486b-4c75-96a9-ece48221282d",
   "metadata": {},
   "source": [
    "|Data Science Tools|\n",
    "|------------------|\n",
    "|Jupyter Notebook|\n",
    "|RStudio| \n",
    "|Visual Studio Code|"
   ]
  },
  {
   "cell_type": "code",
   "execution_count": 2,
   "id": "2c4f66fe-f3fe-436a-b2a3-8e928bb3b0a3",
   "metadata": {},
   "outputs": [],
   "source": [
    "###Below are a few examples of evaluating arithmetic expressions in Python."
   ]
  },
  {
   "cell_type": "code",
   "execution_count": 5,
   "id": "b6ffb6ad-6116-43d1-af1c-c9007b8256a9",
   "metadata": {},
   "outputs": [
    {
     "data": {
      "text/plain": [
       "17"
      ]
     },
     "execution_count": 5,
     "metadata": {},
     "output_type": "execute_result"
    }
   ],
   "source": [
    "(3*4)+5\n",
    "#This a simple arithmetic expression to mutiply then add integers"
   ]
  },
  {
   "cell_type": "code",
   "execution_count": 8,
   "id": "1cf28bca-6985-4d75-9e68-11dd5818b197",
   "metadata": {},
   "outputs": [
    {
     "name": "stdin",
     "output_type": "stream",
     "text": [
      "Enter time in minutes 200\n"
     ]
    },
    {
     "name": "stdout",
     "output_type": "stream",
     "text": [
      "Hours= 3\n",
      "Minutes= 20\n"
     ]
    }
   ],
   "source": [
    "min=int(input(\"Enter time in minutes\"))\n",
    "h=min//60\n",
    "m=min%60\n",
    "print(\"Hours=\",h)\n",
    "print(\"Minutes=\",m)"
   ]
  },
  {
   "cell_type": "code",
   "execution_count": 10,
   "id": "9064a703-752c-4b86-b355-c5afce0610b9",
   "metadata": {},
   "outputs": [],
   "source": [
    "##Author-MUKUL"
   ]
  },
  {
   "cell_type": "code",
   "execution_count": null,
   "id": "886fbac9-ef97-4dd2-b5d1-604bc1853ebb",
   "metadata": {},
   "outputs": [],
   "source": []
  }
 ],
 "metadata": {
  "kernelspec": {
   "display_name": "Python [conda env:base] *",
   "language": "python",
   "name": "conda-base-py"
  },
  "language_info": {
   "codemirror_mode": {
    "name": "ipython",
    "version": 3
   },
   "file_extension": ".py",
   "mimetype": "text/x-python",
   "name": "python",
   "nbconvert_exporter": "python",
   "pygments_lexer": "ipython3",
   "version": "3.13.5"
  }
 },
 "nbformat": 4,
 "nbformat_minor": 5
}
